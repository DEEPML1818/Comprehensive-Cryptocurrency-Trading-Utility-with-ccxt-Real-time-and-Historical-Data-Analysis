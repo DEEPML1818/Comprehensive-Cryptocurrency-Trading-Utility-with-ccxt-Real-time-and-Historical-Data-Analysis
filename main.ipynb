{
 "cells": [
  {
   "cell_type": "code",
   "execution_count": null,
   "metadata": {},
   "outputs": [],
   "source": [
    "import ccxt\n",
    "\n",
    "def fetch_market_data(exchange, symbol):\n",
    "    ticker = exchange.fetch_ticker(symbol)\n",
    "    print(f\"Market Data for {symbol}: {ticker}\")\n",
    "\n",
    "# Instantiate the exchange object (replace 'huobi' with your desired exchange)\n",
    "exchange = ccxt.huobi()\n",
    "\n",
    "# Symbol to fetch market data\n",
    "symbol_to_fetch = 'BTC/USDT'\n",
    "\n",
    "# Call the function\n",
    "fetch_market_data(exchange, symbol_to_fetch)"
   ]
  },
  {
   "cell_type": "code",
   "execution_count": null,
   "metadata": {},
   "outputs": [],
   "source": [
    "import ccxt\n",
    "from datetime import datetime, timedelta\n",
    "\n",
    "def fetch_historical_ohlcv(exchange, symbol, timeframe, days_back):\n",
    "    since = exchange.parse8601((datetime.utcnow() - timedelta(days=days_back)).isoformat())\n",
    "    ohlcv_data = exchange.fetch_ohlcv(symbol, timeframe, since)\n",
    "    print(f\"Historical OHLCV Data for {symbol} ({timeframe}): {ohlcv_data}\")\n",
    "\n",
    "# Instantiate the exchange object (replace 'huobi' with your desired exchange)\n",
    "exchange = ccxt.huobi()\n",
    "\n",
    "# Symbol and parameters for historical OHLCV data\n",
    "symbol_for_ohlcv = 'BTC/USDT'\n",
    "timeframe_for_ohlcv = '1h'\n",
    "days_back_for_ohlcv = 7\n",
    "\n",
    "# Call the function\n",
    "fetch_historical_ohlcv(exchange, symbol_for_ohlcv, timeframe_for_ohlcv, days_back_for_ohlcv)\n"
   ]
  },
  {
   "cell_type": "code",
   "execution_count": null,
   "metadata": {},
   "outputs": [],
   "source": [
    "import ccxt\n",
    "\n",
    "def fetch_exchange_info(exchange):\n",
    "    exchange_info = exchange.load_markets()\n",
    "    print(exchange_info)\n",
    "\n",
    "# Instantiate the exchange object (replace 'huobi' with your desired exchange)\n",
    "exchange = ccxt.huobi()\n",
    "\n",
    "# Call the function\n",
    "fetch_exchange_info(exchange)"
   ]
  },
  {
   "cell_type": "code",
   "execution_count": null,
   "metadata": {},
   "outputs": [],
   "source": [
    "import ccxt\n",
    "\n",
    "def fetch_available_currencies(exchange):\n",
    "    currencies = exchange.fetch_currencies()\n",
    "    print(currencies)\n",
    "\n",
    "# Instantiate the exchange object (replace 'huobi' with your desired exchange)\n",
    "exchange = ccxt.huobi()\n",
    "\n",
    "# Call the function\n",
    "fetch_available_currencies(exchange)"
   ]
  },
  {
   "cell_type": "code",
   "execution_count": null,
   "metadata": {},
   "outputs": [],
   "source": [
    "import ccxt\n",
    "\n",
    "def fetch_order_book(exchange, symbol, limit):\n",
    "    order_book = exchange.fetch_order_book(symbol, limit)\n",
    "    print(order_book)\n",
    "\n",
    "# Instantiate the exchange object (replace 'huobi' with your desired exchange)\n",
    "exchange = ccxt.huobi()\n",
    "\n",
    "# Symbol and limit for order book\n",
    "symbol_for_order_book = 'BTC/USDT'\n",
    "limit_for_order_book = 5\n",
    "\n",
    "# Call the function\n",
    "fetch_order_book(exchange, symbol_for_order_book, limit_for_order_book)"
   ]
  },
  {
   "cell_type": "code",
   "execution_count": null,
   "metadata": {},
   "outputs": [],
   "source": [
    "import ccxt\n",
    "\n",
    "def fetch_ticker_symbols(exchange):\n",
    "    markets = exchange.load_markets()\n",
    "    ticker_symbols = list(markets.keys())\n",
    "    print(ticker_symbols)\n",
    "\n",
    "# Instantiate the exchange object (replace 'huobi' with your desired exchange)\n",
    "exchange = ccxt.huobi()\n",
    "\n",
    "# Call the function\n",
    "fetch_ticker_symbols(exchange)"
   ]
  },
  {
   "cell_type": "code",
   "execution_count": null,
   "metadata": {},
   "outputs": [],
   "source": [
    "import ccxt\n",
    "\n",
    "def fetch_server_time(exchange):\n",
    "    server_time = exchange.fetch_time()\n",
    "    print(server_time)\n",
    "\n",
    "# Instantiate the exchange object (replace 'huobi' with your desired exchange)\n",
    "exchange = ccxt.huobi()\n",
    "\n",
    "# Call the function\n",
    "fetch_server_time(exchange)"
   ]
  },
  {
   "cell_type": "code",
   "execution_count": null,
   "metadata": {},
   "outputs": [],
   "source": [
    "import ccxt\n",
    "\n",
    "def fetch_trading_pairs(exchange):\n",
    "    markets = exchange.load_markets()\n",
    "    trading_pairs = list(markets.keys())\n",
    "    print(trading_pairs)\n",
    "\n",
    "# Instantiate the exchange object (replace 'huobi' with your desired exchange)\n",
    "exchange = ccxt.huobi()\n",
    "\n",
    "# Call the function\n",
    "fetch_trading_pairs(exchange)"
   ]
  }
 ],
 "metadata": {
  "language_info": {
   "name": "python"
  },
  "orig_nbformat": 4
 },
 "nbformat": 4,
 "nbformat_minor": 2
}
